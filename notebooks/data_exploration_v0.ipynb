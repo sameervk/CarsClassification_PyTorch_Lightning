{
 "cells": [
  {
   "cell_type": "code",
   "execution_count": 1,
   "id": "54de2e22-ccc5-4051-982f-ef8557ac510d",
   "metadata": {},
   "outputs": [],
   "source": [
    "from pathlib import Path"
   ]
  },
  {
   "cell_type": "code",
   "execution_count": 19,
   "id": "4e87ae22-01c8-4b84-ab2f-acf6a906e8c6",
   "metadata": {},
   "outputs": [],
   "source": [
    "import matplotlib.pyplot as plt"
   ]
  },
  {
   "cell_type": "markdown",
   "id": "b75270bf-c181-4492-bb21-d22b23b7e9d3",
   "metadata": {},
   "source": [
    "## Data directory"
   ]
  },
  {
   "cell_type": "code",
   "execution_count": 2,
   "id": "3fb9c6fb-9554-429c-8694-601969f7e665",
   "metadata": {},
   "outputs": [
    {
     "data": {
      "text/plain": [
       "PosixPath('/media/skesava/D/Training/MachineLearning/Pytorch/CarsClassification_PyTorch_Lightning/notebooks')"
      ]
     },
     "execution_count": 2,
     "metadata": {},
     "output_type": "execute_result"
    }
   ],
   "source": [
    "Path.cwd()"
   ]
  },
  {
   "cell_type": "code",
   "execution_count": 15,
   "id": "85e2cfa7-bd4c-44ee-9811-18fcc04174c0",
   "metadata": {},
   "outputs": [
    {
     "data": {
      "text/plain": [
       "PosixPath('/media/skesava/D/Training')"
      ]
     },
     "execution_count": 15,
     "metadata": {},
     "output_type": "execute_result"
    }
   ],
   "source": [
    "data_directory = Path.cwd().parent.parent.parent.parent\n",
    "data_directory"
   ]
  },
  {
   "cell_type": "code",
   "execution_count": 16,
   "id": "55759f90-f373-4167-a934-5fed8947dac9",
   "metadata": {},
   "outputs": [],
   "source": [
    "data_directory = data_directory.joinpath('ML datasets/StanfordCarDataset/archive')"
   ]
  },
  {
   "cell_type": "code",
   "execution_count": 17,
   "id": "a70878b8-faf3-4675-9fba-8d1f24e60b3e",
   "metadata": {},
   "outputs": [
    {
     "data": {
      "text/plain": [
       "True"
      ]
     },
     "execution_count": 17,
     "metadata": {},
     "output_type": "execute_result"
    }
   ],
   "source": [
    "data_directory.exists()"
   ]
  },
  {
   "cell_type": "code",
   "execution_count": 18,
   "id": "c7683544-9afc-40b0-8661-271c58edef21",
   "metadata": {},
   "outputs": [
    {
     "data": {
      "text/plain": [
       "PosixPath('/media/skesava/D/Training/ML datasets/StanfordCarDataset/archive')"
      ]
     },
     "execution_count": 18,
     "metadata": {},
     "output_type": "execute_result"
    }
   ],
   "source": [
    "data_directory"
   ]
  },
  {
   "cell_type": "code",
   "execution_count": null,
   "id": "ce1a2f45-aacd-4d39-89e0-e99e4b97f613",
   "metadata": {},
   "outputs": [],
   "source": []
  },
  {
   "cell_type": "markdown",
   "id": "4f114b8b-e3ed-4e94-95ee-de7d09bfd88c",
   "metadata": {},
   "source": [
    "## TODO: visualisation of images"
   ]
  },
  {
   "cell_type": "code",
   "execution_count": null,
   "id": "15be7b0d-492a-4076-9334-c5042925422e",
   "metadata": {},
   "outputs": [],
   "source": []
  }
 ],
 "metadata": {
  "kernelspec": {
   "display_name": "CarsClassification",
   "language": "python",
   "name": "carsclassification"
  },
  "language_info": {
   "codemirror_mode": {
    "name": "ipython",
    "version": 3
   },
   "file_extension": ".py",
   "mimetype": "text/x-python",
   "name": "python",
   "nbconvert_exporter": "python",
   "pygments_lexer": "ipython3",
   "version": "3.10.12"
  }
 },
 "nbformat": 4,
 "nbformat_minor": 5
}
